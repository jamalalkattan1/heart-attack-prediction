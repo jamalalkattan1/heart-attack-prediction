{
  "nbformat": 4,
  "nbformat_minor": 0,
  "metadata": {
    "colab": {
      "provenance": []
    },
    "kernelspec": {
      "name": "python3",
      "display_name": "Python 3"
    },
    "language_info": {
      "name": "python"
    }
  },
  "cells": [
    {
      "cell_type": "markdown",
      "source": [
        "List the risk factors for heart attacks in the knowledge base."
      ],
      "metadata": {
        "id": "_hiq__KjQRi9"
      }
    },
    {
      "cell_type": "code",
      "source": [
        "pip install fuzzywuzzy"
      ],
      "metadata": {
        "colab": {
          "base_uri": "https://localhost:8080/"
        },
        "id": "r8eXsDhgR0N-",
        "outputId": "76002b77-bbc8-4219-8512-ce06470794dc"
      },
      "execution_count": 2,
      "outputs": [
        {
          "output_type": "stream",
          "name": "stdout",
          "text": [
            "Collecting fuzzywuzzy\n",
            "  Downloading fuzzywuzzy-0.18.0-py2.py3-none-any.whl.metadata (4.9 kB)\n",
            "Downloading fuzzywuzzy-0.18.0-py2.py3-none-any.whl (18 kB)\n",
            "Installing collected packages: fuzzywuzzy\n",
            "Successfully installed fuzzywuzzy-0.18.0\n"
          ]
        }
      ]
    },
    {
      "cell_type": "code",
      "execution_count": 7,
      "metadata": {
        "colab": {
          "base_uri": "https://localhost:8080/"
        },
        "id": "npditVrnPl1E",
        "outputId": "8543c0f2-c236-42e1-d9aa-e2b557930415"
      },
      "outputs": [
        {
          "output_type": "stream",
          "name": "stdout",
          "text": [
            "Welcome to the Heart Attack Information Chatbot\n",
            "Enter your heart attack question here, or press 'exit' to end the session.\n",
            "You: is age a factor?\n",
            "Bot: Age is a risk factor for heart disease. The risk increases with age.\n",
            "You: what about sex\n",
            "Bot: Males are generally at a higher risk of heart disease than females.\n",
            "You: \n",
            "Bot: I'm not sure. Would you please be more specific?\n",
            "You: my hear rate is high is that a factor\n",
            "Bot: Abnormal heart rates, especially at rest, can be indicators of heart disease.\n",
            "You: is smoking a factor\n",
            "Bot: Smoking damages blood vessels and increases heart disease risk.\n",
            "You: exit\n",
            "Thank you for using the Heart Attack Information Chatbot. Stay healthy!\n"
          ]
        }
      ],
      "source": [
        "from fuzzywuzzy import fuzz\n",
        "\n",
        "def get_heart_attack_info(question):\n",
        "    question = question.lower()\n",
        "\n",
        "    topics = {\n",
        "        \"age\": \"Age is a risk factor for heart disease. The risk increases with age.\",\n",
        "        \"sex\": \"Males are generally at a higher risk of heart disease than females.\",\n",
        "        \"cholesterol\": \"High cholesterol levels, especially LDL, can increase the risk of heart disease.\",\n",
        "        \"blood pressure\": \"High blood pressure (e.g., >120/80 mmHg) can damage arteries and increase heart disease risk.\",\n",
        "        \"heart rate\": \"Abnormal heart rates, especially at rest, can be indicators of heart disease.\",\n",
        "        \"diabetes\": \"Diabetes significantly increases the risk of developing heart disease.\",\n",
        "        \"family history\": \"A family history of heart disease is a significant risk factor.\",\n",
        "        \"smoking\": \"Smoking damages blood vessels and increases heart disease risk.\",\n",
        "        \"obesity\": \"Obesity strains the heart and increases the likelihood of heart disease.\",\n",
        "        \"triglycerides\": \"High triglyceride levels are associated with an increased risk of heart disease.\",\n",
        "        \"bmi\": \"A high BMI can indicate obesity, which is a risk factor for heart disease.\",\n",
        "        \"physical activity\": \"Regular physical activity reduces the risk of heart disease.\",\n",
        "        \"sleep hours\": \"Insufficient or poor-quality sleep is linked to heart disease.\",\n",
        "        \"sedentary hours\": \"Extended sedentary periods increase the risk of heart disease.\",\n",
        "        \"heart attack risk\": \"The dataset includes a calculated risk score for heart attacks based on various factors.\"\n",
        "    }\n",
        "\n",
        "    best_match = max(topics.keys(), key=lambda topic: fuzz.partial_ratio(topic, question))\n",
        "\n",
        "    threshold = 70\n",
        "    if fuzz.partial_ratio(best_match, question) >= threshold:\n",
        "        return topics[best_match]\n",
        "    else:\n",
        "        return \"I'm not sure. Would you please be more specific?\"\n",
        "\n",
        "def chatbot():\n",
        "    print(\"Welcome to the Heart Attack Information Chatbot\")\n",
        "    print(\"Enter your heart attack question here, or press 'exit' to end the session.\")\n",
        "\n",
        "    while True:\n",
        "        user_input = input(\"You: \")\n",
        "        if user_input.lower() == 'exit':\n",
        "            print(\"Thank you for using the Heart Attack Information Chatbot. Stay healthy!\")\n",
        "            break\n",
        "\n",
        "        response = get_heart_attack_info(user_input)\n",
        "        print(\"Bot:\", response)\n",
        "\n",
        "chatbot()\n"
      ]
    }
  ]
}